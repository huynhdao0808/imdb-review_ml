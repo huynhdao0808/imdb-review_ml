{
  "nbformat": 4,
  "nbformat_minor": 0,
  "metadata": {
    "colab": {
      "name": "MOVIE REVIEW SENTIMENT PREDICTION by LOGISTIC REGRESSION.ipynb",
      "provenance": [],
      "toc_visible": true
    },
    "kernelspec": {
      "name": "python3",
      "display_name": "Python 3"
    }
  },
  "cells": [
    {
      "cell_type": "markdown",
      "metadata": {
        "id": "nGRsMeKNSNLE",
        "colab_type": "text"
      },
      "source": [
        "# __IMDB REVIEW SENTIMENT PREDICTION by LOGISTIC REGRESSION__\n",
        "## _Source: <a href='https://www.imdb.com/'> IMDb.com </a>_\n",
        "<img src=\"https://images-eu.ssl-images-amazon.com/images/I/315W5zxAnTL.png\" alt=\"drawing\" width=\"200\"/>\n",
        "\n",
        "\n",
        "\n",
        "\n"
      ]
    },
    {
      "cell_type": "markdown",
      "metadata": {
        "id": "7XePGEL-S6HZ",
        "colab_type": "text"
      },
      "source": [
        "## __INTRODUCTION to DATASET__\n",
        "__What is IMDb?__\n",
        "\n",
        "IMDb is an online database of information related to films, television programs, home videos, video games, and streaming content online – including cast, production crew and personal biographies, plot summaries, trivia, fan and critical reviews, and ratings.\n",
        "\n",
        "__What is the dataset about?__\n",
        "\n",
        "The dataset is about all of the viewer's movie review on IMDb platform and their sentiment."
      ]
    },
    {
      "cell_type": "markdown",
      "metadata": {
        "id": "aqvbmP3li7fm",
        "colab_type": "text"
      },
      "source": [
        "## __GOAL of the PROJECT__\n",
        "The project aims to the target using LOGISTIC REGRESSION for building a model to predict the sentiments of review on IMDb.\n",
        "\n",
        "Target accuracy: 90%"
      ]
    },
    {
      "cell_type": "markdown",
      "metadata": {
        "id": "vhtz00vfS9oA",
        "colab_type": "text"
      },
      "source": [
        "## __EXPLORATORY DATA ANALYSIS__"
      ]
    },
    {
      "cell_type": "markdown",
      "metadata": {
        "id": "fpSgxMkdhdgt",
        "colab_type": "text"
      },
      "source": [
        "* Import the data and necessary library"
      ]
    },
    {
      "cell_type": "code",
      "metadata": {
        "id": "YD5GC3qtTXJj",
        "colab_type": "code",
        "outputId": "b588c845-c53c-4cb4-fa2b-9f11dfdf6067",
        "colab": {
          "base_uri": "https://localhost:8080/",
          "height": 34
        }
      },
      "source": [
        "from google.colab import drive\n",
        "drive.mount('/content/drive')"
      ],
      "execution_count": 0,
      "outputs": [
        {
          "output_type": "stream",
          "text": [
            "Drive already mounted at /content/drive; to attempt to forcibly remount, call drive.mount(\"/content/drive\", force_remount=True).\n"
          ],
          "name": "stdout"
        }
      ]
    },
    {
      "cell_type": "code",
      "metadata": {
        "id": "06NIPySFTOJE",
        "colab_type": "code",
        "colab": {}
      },
      "source": [
        "import pandas as pd\n",
        "import numpy as np\n",
        "from tqdm import tqdm"
      ],
      "execution_count": 0,
      "outputs": []
    },
    {
      "cell_type": "code",
      "metadata": {
        "id": "AXPxTw82ThGQ",
        "colab_type": "code",
        "colab": {}
      },
      "source": [
        "#Import the train data\n",
        "data = pd.read_csv('/content/drive/My Drive/Machine Learning - Tonga - Coder School 2020/FTMLE - Tonga/Data/movie_review.csv',sep='\\t')"
      ],
      "execution_count": 0,
      "outputs": []
    },
    {
      "cell_type": "code",
      "metadata": {
        "id": "3QOSrF1dlP_7",
        "colab_type": "code",
        "colab": {}
      },
      "source": [
        "#Import the evaluation data\n",
        "data_evaluation = pd.read_csv('/content/drive/My Drive/Machine Learning - Tonga - Coder School 2020/FTMLE - Tonga/Data/movie_review_evaluation.csv',sep='\\t')"
      ],
      "execution_count": 0,
      "outputs": []
    },
    {
      "cell_type": "markdown",
      "metadata": {
        "id": "j4zkYXI3j6tq",
        "colab_type": "text"
      },
      "source": [
        "* Show data sample: "
      ]
    },
    {
      "cell_type": "code",
      "metadata": {
        "id": "zPWrLVQbUNpW",
        "colab_type": "code",
        "outputId": "5f8df82e-b6a3-4571-c6c3-af7c5c91091e",
        "colab": {
          "base_uri": "https://localhost:8080/",
          "height": 195
        }
      },
      "source": [
        "data.head(5)"
      ],
      "execution_count": 0,
      "outputs": [
        {
          "output_type": "execute_result",
          "data": {
            "text/html": [
              "<div>\n",
              "<style scoped>\n",
              "    .dataframe tbody tr th:only-of-type {\n",
              "        vertical-align: middle;\n",
              "    }\n",
              "\n",
              "    .dataframe tbody tr th {\n",
              "        vertical-align: top;\n",
              "    }\n",
              "\n",
              "    .dataframe thead th {\n",
              "        text-align: right;\n",
              "    }\n",
              "</style>\n",
              "<table border=\"1\" class=\"dataframe\">\n",
              "  <thead>\n",
              "    <tr style=\"text-align: right;\">\n",
              "      <th></th>\n",
              "      <th>id</th>\n",
              "      <th>review</th>\n",
              "      <th>sentiment</th>\n",
              "    </tr>\n",
              "  </thead>\n",
              "  <tbody>\n",
              "    <tr>\n",
              "      <th>0</th>\n",
              "      <td>5814_8</td>\n",
              "      <td>With all this stuff going down at the moment w...</td>\n",
              "      <td>1</td>\n",
              "    </tr>\n",
              "    <tr>\n",
              "      <th>1</th>\n",
              "      <td>2381_9</td>\n",
              "      <td>\\The Classic War of the Worlds\\\" by Timothy Hi...</td>\n",
              "      <td>1</td>\n",
              "    </tr>\n",
              "    <tr>\n",
              "      <th>2</th>\n",
              "      <td>7759_3</td>\n",
              "      <td>The film starts with a manager (Nicholas Bell)...</td>\n",
              "      <td>0</td>\n",
              "    </tr>\n",
              "    <tr>\n",
              "      <th>3</th>\n",
              "      <td>3630_4</td>\n",
              "      <td>It must be assumed that those who praised this...</td>\n",
              "      <td>0</td>\n",
              "    </tr>\n",
              "    <tr>\n",
              "      <th>4</th>\n",
              "      <td>9495_8</td>\n",
              "      <td>Superbly trashy and wondrously unpretentious 8...</td>\n",
              "      <td>1</td>\n",
              "    </tr>\n",
              "  </tbody>\n",
              "</table>\n",
              "</div>"
            ],
            "text/plain": [
              "       id                                             review  sentiment\n",
              "0  5814_8  With all this stuff going down at the moment w...          1\n",
              "1  2381_9  \\The Classic War of the Worlds\\\" by Timothy Hi...          1\n",
              "2  7759_3  The film starts with a manager (Nicholas Bell)...          0\n",
              "3  3630_4  It must be assumed that those who praised this...          0\n",
              "4  9495_8  Superbly trashy and wondrously unpretentious 8...          1"
            ]
          },
          "metadata": {
            "tags": []
          },
          "execution_count": 66
        }
      ]
    },
    {
      "cell_type": "code",
      "metadata": {
        "id": "t_HR_E0Slx6g",
        "colab_type": "code",
        "outputId": "3ac109b7-873a-430b-e059-0dfa67248fd0",
        "colab": {
          "base_uri": "https://localhost:8080/",
          "height": 195
        }
      },
      "source": [
        "data_evaluation.head(5)"
      ],
      "execution_count": 0,
      "outputs": [
        {
          "output_type": "execute_result",
          "data": {
            "text/html": [
              "<div>\n",
              "<style scoped>\n",
              "    .dataframe tbody tr th:only-of-type {\n",
              "        vertical-align: middle;\n",
              "    }\n",
              "\n",
              "    .dataframe tbody tr th {\n",
              "        vertical-align: top;\n",
              "    }\n",
              "\n",
              "    .dataframe thead th {\n",
              "        text-align: right;\n",
              "    }\n",
              "</style>\n",
              "<table border=\"1\" class=\"dataframe\">\n",
              "  <thead>\n",
              "    <tr style=\"text-align: right;\">\n",
              "      <th></th>\n",
              "      <th>id</th>\n",
              "      <th>review</th>\n",
              "    </tr>\n",
              "  </thead>\n",
              "  <tbody>\n",
              "    <tr>\n",
              "      <th>0</th>\n",
              "      <td>10633_1</td>\n",
              "      <td>I watched this video at a friend's house. I'm ...</td>\n",
              "    </tr>\n",
              "    <tr>\n",
              "      <th>1</th>\n",
              "      <td>4489_1</td>\n",
              "      <td>`The Matrix' was an exciting summer blockbuste...</td>\n",
              "    </tr>\n",
              "    <tr>\n",
              "      <th>2</th>\n",
              "      <td>3304_10</td>\n",
              "      <td>This movie is one among the very few Indian mo...</td>\n",
              "    </tr>\n",
              "    <tr>\n",
              "      <th>3</th>\n",
              "      <td>3350_3</td>\n",
              "      <td>The script for this movie was probably found i...</td>\n",
              "    </tr>\n",
              "    <tr>\n",
              "      <th>4</th>\n",
              "      <td>1119_1</td>\n",
              "      <td>Even if this film was allegedly a joke in resp...</td>\n",
              "    </tr>\n",
              "  </tbody>\n",
              "</table>\n",
              "</div>"
            ],
            "text/plain": [
              "        id                                             review\n",
              "0  10633_1  I watched this video at a friend's house. I'm ...\n",
              "1   4489_1  `The Matrix' was an exciting summer blockbuste...\n",
              "2  3304_10  This movie is one among the very few Indian mo...\n",
              "3   3350_3  The script for this movie was probably found i...\n",
              "4   1119_1  Even if this film was allegedly a joke in resp..."
            ]
          },
          "metadata": {
            "tags": []
          },
          "execution_count": 67
        }
      ]
    },
    {
      "cell_type": "markdown",
      "metadata": {
        "id": "rHrZmuZdkYNY",
        "colab_type": "text"
      },
      "source": [
        "* Show data information: \n",
        "  * There are 22500 reviews in totals\n",
        "  * The sentiments indicated by 2 interger values 0 and 1"
      ]
    },
    {
      "cell_type": "code",
      "metadata": {
        "id": "6pnJdZafUYUk",
        "colab_type": "code",
        "outputId": "467e8198-82e1-41a3-8ee4-9764c4eafca2",
        "colab": {
          "base_uri": "https://localhost:8080/",
          "height": 185
        }
      },
      "source": [
        "data.info()"
      ],
      "execution_count": 0,
      "outputs": [
        {
          "output_type": "stream",
          "text": [
            "<class 'pandas.core.frame.DataFrame'>\n",
            "RangeIndex: 22500 entries, 0 to 22499\n",
            "Data columns (total 3 columns):\n",
            " #   Column     Non-Null Count  Dtype \n",
            "---  ------     --------------  ----- \n",
            " 0   id         22500 non-null  object\n",
            " 1   review     22500 non-null  object\n",
            " 2   sentiment  22500 non-null  int64 \n",
            "dtypes: int64(1), object(2)\n",
            "memory usage: 527.5+ KB\n"
          ],
          "name": "stdout"
        }
      ]
    },
    {
      "cell_type": "markdown",
      "metadata": {
        "id": "-WncASNesa3o",
        "colab_type": "text"
      },
      "source": [
        "* Define features data and labels"
      ]
    },
    {
      "cell_type": "code",
      "metadata": {
        "id": "Py3rThH0QeBH",
        "colab_type": "code",
        "colab": {}
      },
      "source": [
        "X = data['review']\n",
        "X_validation = data_evaluation['review']\n",
        "y = data['sentiment']"
      ],
      "execution_count": 0,
      "outputs": []
    },
    {
      "cell_type": "markdown",
      "metadata": {
        "id": "SMsHs-cGOcw0",
        "colab_type": "text"
      },
      "source": [
        "## __BUILD MODEL__"
      ]
    },
    {
      "cell_type": "markdown",
      "metadata": {
        "id": "XtrNmHNlZCyU",
        "colab_type": "text"
      },
      "source": [
        "### __STEP 1: VECTORIZATION__"
      ]
    },
    {
      "cell_type": "markdown",
      "metadata": {
        "id": "kzTzPUThnQz9",
        "colab_type": "text"
      },
      "source": [
        "#### __DATA CLEANING__"
      ]
    },
    {
      "cell_type": "markdown",
      "metadata": {
        "id": "J0T_diQh58AF",
        "colab_type": "text"
      },
      "source": [
        "* Preprocessing\n",
        "\n",
        "This function will remove the unnecessary character in text like punctuation but still keep the emoticons"
      ]
    },
    {
      "cell_type": "code",
      "metadata": {
        "id": "aTpHyhNB53AN",
        "colab_type": "code",
        "colab": {}
      },
      "source": [
        "import re\n",
        "def preprocessor(text):\n",
        "  text = re.sub('<[^>]*>', '', text)\n",
        "  # question_mark = re.findall('[£$]',text)\n",
        "  emoticons = re.findall('(?::|;|=)(?:-)?(?:\\)|\\(|D|P)', text)\n",
        "  text = re.sub('[^A-Za-z0-9]+', ' ', text.lower()) + ' ' + ' '.join(emoticons).replace('-', '')#+' '.join(question_mark)\n",
        "  return text"
      ],
      "execution_count": 0,
      "outputs": []
    },
    {
      "cell_type": "markdown",
      "metadata": {
        "id": "WtBMwmBgZM90",
        "colab_type": "text"
      },
      "source": [
        "* Remove the stop word\n",
        "\n",
        "Stop words are words that do not give any meaning to the sentences so need to be removed"
      ]
    },
    {
      "cell_type": "code",
      "metadata": {
        "id": "1pfFJ98aZyIb",
        "colab_type": "code",
        "outputId": "3242bbb7-48bb-4e93-ba37-99bcf2131a13",
        "colab": {
          "base_uri": "https://localhost:8080/",
          "height": 50
        }
      },
      "source": [
        "import nltk\n",
        "nltk.download('stopwords')\n",
        "from nltk.corpus import stopwords\n",
        "\n",
        "stop = stopwords.words('english')"
      ],
      "execution_count": 0,
      "outputs": [
        {
          "output_type": "stream",
          "text": [
            "[nltk_data] Downloading package stopwords to /root/nltk_data...\n",
            "[nltk_data]   Package stopwords is already up-to-date!\n"
          ],
          "name": "stdout"
        }
      ]
    },
    {
      "cell_type": "markdown",
      "metadata": {
        "id": "9zoHaiPH6CHf",
        "colab_type": "text"
      },
      "source": [
        "* Tokenizing\n",
        "\n",
        "There are several ways for tokenizing the data: Stemmer, Lemmatizer. Those ways will reduce number of words by combining the words that have similar meaning"
      ]
    },
    {
      "cell_type": "code",
      "metadata": {
        "id": "QPsjHPfyoRtC",
        "colab_type": "code",
        "colab": {}
      },
      "source": [
        "def tokenizer(text):\n",
        "    return text.split()"
      ],
      "execution_count": 0,
      "outputs": []
    },
    {
      "cell_type": "code",
      "metadata": {
        "id": "v2Xz97pM6BcJ",
        "colab_type": "code",
        "colab": {}
      },
      "source": [
        "from nltk.stem import PorterStemmer\n",
        "\n",
        "porter = PorterStemmer()\n",
        "def tokenizer_porter(text):\n",
        "  return [porter.stem(word) for word in text.split()]"
      ],
      "execution_count": 0,
      "outputs": []
    },
    {
      "cell_type": "code",
      "metadata": {
        "id": "p7Jy5FLL6GxU",
        "colab_type": "code",
        "outputId": "6e7428d4-c934-4972-f579-c001e19d17c2",
        "colab": {
          "base_uri": "https://localhost:8080/",
          "height": 50
        }
      },
      "source": [
        "nltk.download('wordnet')\n",
        "from nltk import WordNetLemmatizer\n",
        "\n",
        "lemmatizer = WordNetLemmatizer()\n",
        "\n",
        "def tokenizer_lemmatizer(text):\n",
        "  return [lemmatizer.lemmatize(word) for word in text.split()]"
      ],
      "execution_count": 0,
      "outputs": [
        {
          "output_type": "stream",
          "text": [
            "[nltk_data] Downloading package wordnet to /root/nltk_data...\n",
            "[nltk_data]   Package wordnet is already up-to-date!\n"
          ],
          "name": "stdout"
        }
      ]
    },
    {
      "cell_type": "markdown",
      "metadata": {
        "id": "RIjuwMN16cMa",
        "colab_type": "text"
      },
      "source": [
        "#### __VECTORIZING__\n",
        "\n"
      ]
    },
    {
      "cell_type": "markdown",
      "metadata": {
        "id": "hlds3kLJpgDv",
        "colab_type": "text"
      },
      "source": [
        "* CountVectorizer"
      ]
    },
    {
      "cell_type": "code",
      "metadata": {
        "id": "doLGLDNg6mLo",
        "colab_type": "code",
        "colab": {}
      },
      "source": [
        "from sklearn.feature_extraction.text import CountVectorizer\n",
        "\n",
        "ngam_vect = CountVectorizer(ngram_range=(1,3), tokenizer=tokenizer_porter, preprocessor=preprocessor)"
      ],
      "execution_count": 0,
      "outputs": []
    },
    {
      "cell_type": "markdown",
      "metadata": {
        "id": "N7QGv_M6pryI",
        "colab_type": "text"
      },
      "source": [
        "* TfidfVectorizer"
      ]
    },
    {
      "cell_type": "code",
      "metadata": {
        "id": "qonLZM5T5i3P",
        "colab_type": "code",
        "colab": {}
      },
      "source": [
        "from sklearn.feature_extraction.text import TfidfVectorizer\n",
        "\n",
        "tfidf = TfidfVectorizer(tokenizer=tokenizer_porter, preprocessor=preprocessor, ngram_range=(1,3))"
      ],
      "execution_count": 0,
      "outputs": []
    },
    {
      "cell_type": "markdown",
      "metadata": {
        "id": "jFRoQGNgZ6T_",
        "colab_type": "text"
      },
      "source": [
        "* Doc2Vec"
      ]
    },
    {
      "cell_type": "code",
      "metadata": {
        "id": "iBjzXzYVtlNN",
        "colab_type": "code",
        "colab": {}
      },
      "source": [
        "# Data cleaning for Doc2Vec\n",
        "from bs4 import BeautifulSoup\n",
        "from nltk.tokenize import WordPunctTokenizer\n",
        "tok = WordPunctTokenizer()\n",
        "pat1 = r'@[A-Za-z0-9]+'\n",
        "pat2 = r'https?://[A-Za-z0-9./]+'\n",
        "combined_pat = r'|'.join((pat1, pat2))\n",
        "def imdb_cleaner(text):\n",
        "    soup = BeautifulSoup(text, 'lxml')\n",
        "    souped = soup.get_text()\n",
        "    stripped = re.sub(combined_pat, '', souped)\n",
        "    try:\n",
        "        clean = stripped.decode(\"utf-8-sig\").replace(u\"\\ufffd\", \"?\")\n",
        "    except:\n",
        "        clean = stripped\n",
        "    letters_only = re.sub(\"[^a-zA-Z]\", \" \", clean)\n",
        "    lower_case = letters_only.lower()\n",
        "    # During the letters_only process two lines above, it has created unnecessay white spaces,\n",
        "    # I will tokenize and join together to remove unneccessary white spaces\n",
        "    words = tok.tokenize(lower_case)\n",
        "    return (\" \".join(words)).strip()\n",
        "data['review_doc2vec'] = data['review'].apply(imdb_cleaner)"
      ],
      "execution_count": 0,
      "outputs": []
    },
    {
      "cell_type": "code",
      "metadata": {
        "id": "JPg0Deiou5o2",
        "colab_type": "code",
        "outputId": "70de0cfc-4dd8-4b28-ffaf-2d5a174a08c1",
        "colab": {
          "base_uri": "https://localhost:8080/",
          "height": 50
        }
      },
      "source": [
        "train_doc2vec, test_doc2vec = train_test_split(data, test_size=0.2, random_state=42)\n",
        "import nltk\n",
        "from nltk.corpus import stopwords\n",
        "from gensim.models.doc2vec import TaggedDocument\n",
        "nltk.download('punkt')\n",
        "def tokenize_text(text):\n",
        "    tokens = []\n",
        "    for sent in nltk.sent_tokenize(text):\n",
        "        for word in nltk.word_tokenize(sent):\n",
        "            if len(word) < 2:\n",
        "                continue\n",
        "            tokens.append(word.lower())\n",
        "    return tokens\n",
        "train_tagged = train.apply(\n",
        "    lambda r: TaggedDocument(words=tokenize_text(r['review_doc2vec']), tags=[r.sentiment]), axis=1)\n",
        "test_tagged = test.apply(\n",
        "    lambda r: TaggedDocument(words=tokenize_text(r['review_doc2vec']), tags=[r.sentiment]), axis=1)"
      ],
      "execution_count": 0,
      "outputs": [
        {
          "output_type": "stream",
          "text": [
            "[nltk_data] Downloading package punkt to /root/nltk_data...\n",
            "[nltk_data]   Package punkt is already up-to-date!\n"
          ],
          "name": "stdout"
        }
      ]
    },
    {
      "cell_type": "code",
      "metadata": {
        "id": "gklZRnBLvIiT",
        "colab_type": "code",
        "colab": {}
      },
      "source": [
        "def vec_for_learning(model, tagged_docs):\n",
        "    sents = tagged_docs.values\n",
        "    targets, regressors = zip(*[(doc.tags[0], model.infer_vector(doc.words, steps=20)) for doc in sents])\n",
        "    return targets, regressors"
      ],
      "execution_count": 0,
      "outputs": []
    },
    {
      "cell_type": "markdown",
      "metadata": {
        "id": "FovrSx3idYO4",
        "colab_type": "text"
      },
      "source": [
        "### __STEP 2: TRAIN MODEL WITH LOGISTIC REGRESSION__"
      ]
    },
    {
      "cell_type": "markdown",
      "metadata": {
        "id": "3gSJot7sMTn0",
        "colab_type": "text"
      },
      "source": [
        "* With GridSearc (Search for the optimized parameter of vectorizer)"
      ]
    },
    {
      "cell_type": "code",
      "metadata": {
        "id": "2jzfyjOoMS75",
        "colab_type": "code",
        "colab": {}
      },
      "source": [
        "%%time\n",
        "from sklearn.model_selection import GridSearchCV\n",
        "from sklearn.pipeline import Pipeline\n",
        "\n",
        "\n",
        "param_grid = [{'vect__ngram_range': [(1, 2),(1,3)],\n",
        "               'vect__stop_words': [None],\n",
        "               'vect__binary' :[False,True]\n",
        "               'vect__tokenizer': [tokenizer_lemmatizer, tokenizer_porter],\n",
        "               'vect__preprocessor': [preprocessor],\n",
        "               'vect__max_iter' : [100,200]\n",
        "               'clf__penalty': [None, 'l2'],\n",
        "               'clf__C': [1.0, 0.5, 0.1]},\n",
        "              ]\n",
        "\n",
        "lr_ngam_vect = Pipeline([('vect', ngam_vect),\n",
        "                     ('clf', LogisticRegression(random_state=0))])\n",
        "\n",
        "gs_lr_ngam_vect = GridSearchCV(lr_ngam_vect, param_grid,\n",
        "                           scoring='accuracy',\n",
        "                           cv=3,\n",
        "                           verbose=1,\n",
        "                           n_jobs=8)\n",
        "gs_lr_ngam_vect.fit(X, y)"
      ],
      "execution_count": 0,
      "outputs": []
    },
    {
      "cell_type": "code",
      "metadata": {
        "id": "mUs02PTuBjAl",
        "colab_type": "code",
        "colab": {}
      },
      "source": [
        "pd.DataFrame(gs_lr_tfidf.cv_results_).sort_values('rank_test_score').head(5)"
      ],
      "execution_count": 0,
      "outputs": []
    },
    {
      "cell_type": "markdown",
      "metadata": {
        "id": "yE88dYbKxqiY",
        "colab_type": "text"
      },
      "source": [
        "* CountVectorizer"
      ]
    },
    {
      "cell_type": "code",
      "metadata": {
        "id": "XQHgSFLYGS_V",
        "colab_type": "code",
        "colab": {}
      },
      "source": [
        "from sklearn.model_selection import train_test_split\n",
        "\n",
        "X_train, X_test, y_train, y_test = train_test_split(X,y, test_size = 0.2)"
      ],
      "execution_count": 0,
      "outputs": []
    },
    {
      "cell_type": "code",
      "metadata": {
        "id": "0EkWDwjnd2qV",
        "colab_type": "code",
        "colab": {}
      },
      "source": [
        "from sklearn.pipeline import Pipeline\n",
        "from sklearn.linear_model import LogisticRegression\n",
        "\n",
        "clf = Pipeline([('vect', ngam_vect),('clf',LogisticRegression(random_state=0))])"
      ],
      "execution_count": 0,
      "outputs": []
    },
    {
      "cell_type": "code",
      "metadata": {
        "id": "Z79PR2MGfFI3",
        "colab_type": "code",
        "colab": {
          "base_uri": "https://localhost:8080/",
          "height": 54
        },
        "outputId": "e686614c-7979-4b67-c5c0-9694218e27da"
      },
      "source": [
        "%%time\n",
        "clf.fit(X_train, y_train)\n",
        "predictions = clf.predict(X_test)"
      ],
      "execution_count": 103,
      "outputs": [
        {
          "output_type": "stream",
          "text": [
            "CPU times: user 4min 5s, sys: 39.5 s, total: 4min 44s\n",
            "Wall time: 3min 48s\n"
          ],
          "name": "stdout"
        }
      ]
    },
    {
      "cell_type": "code",
      "metadata": {
        "id": "jfGMJRgOu0Xq",
        "colab_type": "code",
        "colab": {
          "base_uri": "https://localhost:8080/",
          "height": 272
        },
        "outputId": "7108259d-dcb1-4d48-801d-3f2a7769d938"
      },
      "source": [
        "# Model Accuracy\n",
        "from sklearn.metrics import mean_squared_error, accuracy_score, confusion_matrix, classification_report\n",
        "print(\"Mean Squared Error: %f\" % mean_squared_error(y_test, predictions))\n",
        "print(\"Accuracy Score: %f\" % accuracy_score(y_test, predictions))\n",
        "print(\"Confusion Matrix:\")\n",
        "print(confusion_matrix(y_test, predictions))\n",
        "print(classification_report(y_test, predictions))"
      ],
      "execution_count": 104,
      "outputs": [
        {
          "output_type": "stream",
          "text": [
            "Mean Squared Error: 0.102000\n",
            "Accuracy Score: 0.898000\n",
            "Confusion Matrix:\n",
            "[[2007  244]\n",
            " [ 215 2034]]\n",
            "              precision    recall  f1-score   support\n",
            "\n",
            "           0       0.90      0.89      0.90      2251\n",
            "           1       0.89      0.90      0.90      2249\n",
            "\n",
            "    accuracy                           0.90      4500\n",
            "   macro avg       0.90      0.90      0.90      4500\n",
            "weighted avg       0.90      0.90      0.90      4500\n",
            "\n"
          ],
          "name": "stdout"
        }
      ]
    },
    {
      "cell_type": "code",
      "metadata": {
        "id": "8T_puqf-zjHY",
        "colab_type": "code",
        "colab": {
          "base_uri": "https://localhost:8080/",
          "height": 265
        },
        "outputId": "f2089e38-52ba-47f4-c1aa-d9745014bc8c"
      },
      "source": [
        "import seaborn as sns\n",
        "import matplotlib.pyplot as plt\n",
        "\n",
        "Confusion_matrix = confusion_matrix(y_test, predictions)\n",
        "sns.heatmap(Confusion_matrix)\n",
        "plt.show()"
      ],
      "execution_count": 105,
      "outputs": [
        {
          "output_type": "display_data",
          "data": {
            "image/png": "[encoded data removed]",
            "text/plain": [
              "<Figure size 432x288 with 2 Axes>"
            ]
          },
          "metadata": {
            "tags": [],
            "needs_background": "light"
          }
        }
      ]
    },
    {
      "cell_type": "markdown",
      "metadata": {
        "id": "lILx1gp4zKFB",
        "colab_type": "text"
      },
      "source": [
        "* TfidfVectorizer"
      ]
    },
    {
      "cell_type": "code",
      "metadata": {
        "id": "ATIC9Olu_FGk",
        "colab_type": "code",
        "colab": {}
      },
      "source": [
        "clf_tfidf = Pipeline([('vect', tfidf),('clf',LogisticRegression(random_state=0))])\n",
        "clf_tfidf.fit(X_train, y_train)\n",
        "predictions_tfidf = clf_tfidf.predict(X_test)"
      ],
      "execution_count": 0,
      "outputs": []
    },
    {
      "cell_type": "code",
      "metadata": {
        "id": "qlP-KvmXzRPA",
        "colab_type": "code",
        "colab": {
          "base_uri": "https://localhost:8080/",
          "height": 272
        },
        "outputId": "76ed50ce-84ee-4097-b449-ec9d528596bf"
      },
      "source": [
        "# Model Accuracy\n",
        "from sklearn.metrics import mean_squared_error, accuracy_score, confusion_matrix, classification_report\n",
        "print(\"Mean Squared Error: %f\" % mean_squared_error(y_test, predictions_tfidf))\n",
        "print(\"Accuracy Score: %f\" % accuracy_score(y_test, predictions_tfidf))\n",
        "print(\"Confusion Matrix:\")\n",
        "print(confusion_matrix(y_test, predictions_tfidf))\n",
        "print(classification_report(y_test, predictions_tfidf))"
      ],
      "execution_count": 107,
      "outputs": [
        {
          "output_type": "stream",
          "text": [
            "Mean Squared Error: 0.120000\n",
            "Accuracy Score: 0.880000\n",
            "Confusion Matrix:\n",
            "[[1946  305]\n",
            " [ 235 2014]]\n",
            "              precision    recall  f1-score   support\n",
            "\n",
            "           0       0.89      0.86      0.88      2251\n",
            "           1       0.87      0.90      0.88      2249\n",
            "\n",
            "    accuracy                           0.88      4500\n",
            "   macro avg       0.88      0.88      0.88      4500\n",
            "weighted avg       0.88      0.88      0.88      4500\n",
            "\n"
          ],
          "name": "stdout"
        }
      ]
    },
    {
      "cell_type": "markdown",
      "metadata": {
        "id": "Z-7TDU6g3FdV",
        "colab_type": "text"
      },
      "source": [
        "* Doc2Vec"
      ]
    },
    {
      "cell_type": "code",
      "metadata": {
        "id": "IN8iIsMWu9kW",
        "colab_type": "code",
        "colab": {
          "base_uri": "https://localhost:8080/",
          "height": 617
        },
        "outputId": "4d50fa72-4f59-4bef-b95d-b270e3898c3d"
      },
      "source": [
        "%%time\n",
        "import multiprocessing\n",
        "cores = multiprocessing.cpu_count()\n",
        "# model_dbow = Doc2Vec(dm=0, vector_size=300, negative=5, hs=0, min_count=2, sample = 0, workers=cores)\n",
        "model_dbow = Doc2Vec(dm=0, size=500, negative=5, min_count=1, workers=cores, alpha=0.065, min_alpha=0.065)\n",
        "model_dbow.build_vocab([x for x in tqdm(train_tagged.values)])\n",
        "for epoch in range(30):\n",
        "    model_dbow.train(utils.shuffle([x for x in tqdm(train_tagged.values)]), total_examples=len(train_tagged.values), epochs=1)\n",
        "    model_dbow.alpha -= 0.002\n",
        "    model_dbow.min_alpha = model_dbow.alpha"
      ],
      "execution_count": 108,
      "outputs": [
        {
          "output_type": "stream",
          "text": [
            "100%|██████████| 18000/18000 [00:00<00:00, 1086419.62it/s]\n",
            "100%|██████████| 18000/18000 [00:00<00:00, 2293292.18it/s]\n",
            "100%|██████████| 18000/18000 [00:00<00:00, 2440361.77it/s]\n",
            "100%|██████████| 18000/18000 [00:00<00:00, 1597458.20it/s]\n",
            "100%|██████████| 18000/18000 [00:00<00:00, 1704693.64it/s]\n",
            "100%|██████████| 18000/18000 [00:00<00:00, 2739783.42it/s]\n",
            "100%|██████████| 18000/18000 [00:00<00:00, 1628048.05it/s]\n",
            "100%|██████████| 18000/18000 [00:00<00:00, 1665030.37it/s]\n",
            "100%|██████████| 18000/18000 [00:00<00:00, 2718670.22it/s]\n",
            "100%|██████████| 18000/18000 [00:00<00:00, 2892734.28it/s]\n",
            "100%|██████████| 18000/18000 [00:00<00:00, 2688464.92it/s]\n",
            "100%|██████████| 18000/18000 [00:00<00:00, 1724710.38it/s]\n",
            "100%|██████████| 18000/18000 [00:00<00:00, 1779971.05it/s]\n",
            "100%|██████████| 18000/18000 [00:00<00:00, 2444233.10it/s]\n",
            "100%|██████████| 18000/18000 [00:00<00:00, 2661735.72it/s]\n",
            "100%|██████████| 18000/18000 [00:00<00:00, 2882353.00it/s]\n",
            "100%|██████████| 18000/18000 [00:00<00:00, 2674464.98it/s]\n",
            "100%|██████████| 18000/18000 [00:00<00:00, 2665871.19it/s]\n",
            "100%|██████████| 18000/18000 [00:00<00:00, 1205067.39it/s]\n",
            "100%|██████████| 18000/18000 [00:00<00:00, 1673519.21it/s]\n",
            "100%|██████████| 18000/18000 [00:00<00:00, 2361953.20it/s]\n",
            "100%|██████████| 18000/18000 [00:00<00:00, 2493723.27it/s]\n",
            "100%|██████████| 18000/18000 [00:00<00:00, 1996178.63it/s]\n",
            "100%|██████████| 18000/18000 [00:00<00:00, 1102362.08it/s]\n",
            "100%|██████████| 18000/18000 [00:00<00:00, 1873061.06it/s]\n",
            "100%|██████████| 18000/18000 [00:00<00:00, 2105985.44it/s]\n",
            "100%|██████████| 18000/18000 [00:00<00:00, 1376058.91it/s]\n",
            "100%|██████████| 18000/18000 [00:00<00:00, 2456880.21it/s]\n",
            "100%|██████████| 18000/18000 [00:00<00:00, 1473552.69it/s]\n",
            "100%|██████████| 18000/18000 [00:00<00:00, 2685882.53it/s]\n",
            "100%|██████████| 18000/18000 [00:00<00:00, 2760116.70it/s]\n"
          ],
          "name": "stderr"
        },
        {
          "output_type": "stream",
          "text": [
            "CPU times: user 10min 42s, sys: 5.77 s, total: 10min 48s\n",
            "Wall time: 5min 53s\n"
          ],
          "name": "stdout"
        }
      ]
    },
    {
      "cell_type": "code",
      "metadata": {
        "id": "w9A3zYYZ3MlT",
        "colab_type": "code",
        "colab": {
          "base_uri": "https://localhost:8080/",
          "height": 54
        },
        "outputId": "1b021934-161c-4409-963d-6b78a626c2f6"
      },
      "source": [
        "%%time\n",
        "y_train, X_train = vec_for_learning(model_dbow, train_tagged)\n",
        "y_test, X_test = vec_for_learning(model_dbow, test_tagged)\n",
        "logreg = LogisticRegression(C=0.5)\n",
        "logreg.fit(X_train, y_train)\n",
        "y_pred = logreg.predict(X_test)\n",
        "predictions_doc2vec = logreg.predict(X_test)"
      ],
      "execution_count": 109,
      "outputs": [
        {
          "output_type": "stream",
          "text": [
            "CPU times: user 5min 13s, sys: 563 ms, total: 5min 13s\n",
            "Wall time: 5min 13s\n"
          ],
          "name": "stdout"
        }
      ]
    },
    {
      "cell_type": "code",
      "metadata": {
        "id": "vKgvcIyp3hCx",
        "colab_type": "code",
        "colab": {
          "base_uri": "https://localhost:8080/",
          "height": 272
        },
        "outputId": "e433d200-4506-4714-cb4a-fb177a602a47"
      },
      "source": [
        "# Model Accuracy\n",
        "from sklearn.metrics import mean_squared_error, accuracy_score, confusion_matrix, classification_report\n",
        "print(\"Mean Squared Error: %f\" % mean_squared_error(y_test, predictions_doc2vec))\n",
        "print(\"Accuracy Score: %f\" % accuracy_score(y_test, predictions_doc2vec))\n",
        "print(\"Confusion Matrix:\")\n",
        "print(confusion_matrix(y_test, predictions_doc2vec))\n",
        "print(classification_report(y_test, predictions_doc2vec))"
      ],
      "execution_count": 110,
      "outputs": [
        {
          "output_type": "stream",
          "text": [
            "Mean Squared Error: 0.107556\n",
            "Accuracy Score: 0.892444\n",
            "Confusion Matrix:\n",
            "[[1967  232]\n",
            " [ 252 2049]]\n",
            "              precision    recall  f1-score   support\n",
            "\n",
            "           0       0.89      0.89      0.89      2199\n",
            "           1       0.90      0.89      0.89      2301\n",
            "\n",
            "    accuracy                           0.89      4500\n",
            "   macro avg       0.89      0.89      0.89      4500\n",
            "weighted avg       0.89      0.89      0.89      4500\n",
            "\n"
          ],
          "name": "stdout"
        }
      ]
    },
    {
      "cell_type": "markdown",
      "metadata": {
        "id": "xmHd8RleB59S",
        "colab_type": "text"
      },
      "source": [
        "## __VALIDATION__"
      ]
    },
    {
      "cell_type": "markdown",
      "metadata": {
        "id": "r1U-RoTiB-6L",
        "colab_type": "text"
      },
      "source": [
        "CountVecterizer show the highest accuracy"
      ]
    },
    {
      "cell_type": "code",
      "metadata": {
        "id": "yTx8tpUwB5WO",
        "colab_type": "code",
        "colab": {
          "base_uri": "https://localhost:8080/",
          "height": 54
        },
        "outputId": "37592d07-c145-4014-e1c3-a544a46680cc"
      },
      "source": [
        "%%time\n",
        "clf.fit(X, y)\n",
        "predictions = clf.predict(X_validation)"
      ],
      "execution_count": 112,
      "outputs": [
        {
          "output_type": "stream",
          "text": [
            "CPU times: user 4min 43s, sys: 40.5 s, total: 5min 24s\n",
            "Wall time: 4min 25s\n"
          ],
          "name": "stdout"
        }
      ]
    },
    {
      "cell_type": "code",
      "metadata": {
        "id": "M5GbscbxHB9y",
        "colab_type": "code",
        "colab": {
          "base_uri": "https://localhost:8080/",
          "height": 72
        },
        "outputId": "94d5459f-6078-498c-a392-0d4b07cfd484"
      },
      "source": [
        "pd.concat([X_validation,pd.Series(predictions,name='sentiment')],axis=1)['sentiment'].value_counts()"
      ],
      "execution_count": 133,
      "outputs": [
        {
          "output_type": "execute_result",
          "data": {
            "text/plain": [
              "0    1260\n",
              "1    1240\n",
              "Name: sentiment, dtype: int64"
            ]
          },
          "metadata": {
            "tags": []
          },
          "execution_count": 133
        }
      ]
    },
    {
      "cell_type": "code",
      "metadata": {
        "id": "c8qo7b1lFKzQ",
        "colab_type": "code",
        "colab": {}
      },
      "source": [
        "pd.concat([X_validation,pd.Series(predictions,name='sentiment')],axis=1).to_csv('validation_imdb.csv')"
      ],
      "execution_count": 0,
      "outputs": []
    }
  ]
}